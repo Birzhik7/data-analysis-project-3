{
 "cells": [
  {
   "cell_type": "code",
   "execution_count": 3,
   "id": "983c4e76-ae19-4f09-a8d6-3e019c6de717",
   "metadata": {},
   "outputs": [],
   "source": [
    "# Импортируем необходимые библиотеки\n",
    "import pandas as pd\n",
    "import numpy as np\n",
    "import matplotlib.pyplot as plt\n",
    "import seaborn as sns"
   ]
  },
  {
   "cell_type": "code",
   "execution_count": 5,
   "id": "bd86065e-6deb-47d9-b052-f76ccb5cf7f4",
   "metadata": {},
   "outputs": [],
   "source": [
    "pd.set_option('display.max_columns', None)\n",
    "# pd.set_option('display.max_rows', None)"
   ]
  },
  {
   "cell_type": "markdown",
   "id": "5594c730-d9ff-43da-964d-bf0d6f4bd820",
   "metadata": {},
   "source": [
    "# Task 1\n",
    "Загрузка данных и ознакомление с ними\n",
    "\n",
    "Цель: Загрузить данные и получить общее представление о структуре датасета.:\n",
    "\n",
    "Импортировать необходимые библиотеки (например, `pandas`, `numpy`).\n",
    "Загрузить датасет из файла.\n",
    "\n",
    "Вывести первые несколько строк датасета.\n",
    "Посмотреть общую информацию о датасете (типы данных, количество пропущенных значений, описание колонок).\n"
   ]
  },
  {
   "cell_type": "code",
   "execution_count": 7,
   "id": "e0185ae7-f937-4195-bdaf-f4b56a3b5c8f",
   "metadata": {},
   "outputs": [],
   "source": [
    "# Читаем файл\n",
    "data=pd.read_csv('ecommerce_dataset.csv')"
   ]
  },
  {
   "cell_type": "code",
   "execution_count": 9,
   "id": "3a2e9068-e67e-499f-b2cd-2713fb337146",
   "metadata": {},
   "outputs": [
    {
     "data": {
      "text/html": [
       "<div>\n",
       "<style scoped>\n",
       "    .dataframe tbody tr th:only-of-type {\n",
       "        vertical-align: middle;\n",
       "    }\n",
       "\n",
       "    .dataframe tbody tr th {\n",
       "        vertical-align: top;\n",
       "    }\n",
       "\n",
       "    .dataframe thead th {\n",
       "        text-align: right;\n",
       "    }\n",
       "</style>\n",
       "<table border=\"1\" class=\"dataframe\">\n",
       "  <thead>\n",
       "    <tr style=\"text-align: right;\">\n",
       "      <th></th>\n",
       "      <th>date</th>\n",
       "      <th>customer_id</th>\n",
       "      <th>order_id</th>\n",
       "      <th>product</th>\n",
       "      <th>quantity</th>\n",
       "      <th>price</th>\n",
       "    </tr>\n",
       "  </thead>\n",
       "  <tbody>\n",
       "    <tr>\n",
       "      <th>0</th>\n",
       "      <td>2018100100</td>\n",
       "      <td>ee47d746-6d2f-4d3c-9622-c31412542920</td>\n",
       "      <td>68477</td>\n",
       "      <td>Комнатное растение в горшке Алое Вера, d12, h30</td>\n",
       "      <td>1</td>\n",
       "      <td>142.0</td>\n",
       "    </tr>\n",
       "    <tr>\n",
       "      <th>1</th>\n",
       "      <td>2018100100</td>\n",
       "      <td>ee47d746-6d2f-4d3c-9622-c31412542920</td>\n",
       "      <td>68477</td>\n",
       "      <td>Комнатное растение в горшке Кофе Арабика, d12,...</td>\n",
       "      <td>1</td>\n",
       "      <td>194.0</td>\n",
       "    </tr>\n",
       "    <tr>\n",
       "      <th>2</th>\n",
       "      <td>2018100100</td>\n",
       "      <td>ee47d746-6d2f-4d3c-9622-c31412542920</td>\n",
       "      <td>68477</td>\n",
       "      <td>Радермахера d-12 см h-20 см</td>\n",
       "      <td>1</td>\n",
       "      <td>112.0</td>\n",
       "    </tr>\n",
       "    <tr>\n",
       "      <th>3</th>\n",
       "      <td>2018100100</td>\n",
       "      <td>ee47d746-6d2f-4d3c-9622-c31412542920</td>\n",
       "      <td>68477</td>\n",
       "      <td>Хризолидокарпус Лутесценс d-9 см</td>\n",
       "      <td>1</td>\n",
       "      <td>179.0</td>\n",
       "    </tr>\n",
       "    <tr>\n",
       "      <th>4</th>\n",
       "      <td>2018100100</td>\n",
       "      <td>ee47d746-6d2f-4d3c-9622-c31412542920</td>\n",
       "      <td>68477</td>\n",
       "      <td>Циперус Зумула d-12 см h-25 см</td>\n",
       "      <td>1</td>\n",
       "      <td>112.0</td>\n",
       "    </tr>\n",
       "  </tbody>\n",
       "</table>\n",
       "</div>"
      ],
      "text/plain": [
       "         date                           customer_id  order_id  \\\n",
       "0  2018100100  ee47d746-6d2f-4d3c-9622-c31412542920     68477   \n",
       "1  2018100100  ee47d746-6d2f-4d3c-9622-c31412542920     68477   \n",
       "2  2018100100  ee47d746-6d2f-4d3c-9622-c31412542920     68477   \n",
       "3  2018100100  ee47d746-6d2f-4d3c-9622-c31412542920     68477   \n",
       "4  2018100100  ee47d746-6d2f-4d3c-9622-c31412542920     68477   \n",
       "\n",
       "                                             product  quantity  price  \n",
       "0    Комнатное растение в горшке Алое Вера, d12, h30         1  142.0  \n",
       "1  Комнатное растение в горшке Кофе Арабика, d12,...         1  194.0  \n",
       "2                        Радермахера d-12 см h-20 см         1  112.0  \n",
       "3                   Хризолидокарпус Лутесценс d-9 см         1  179.0  \n",
       "4                     Циперус Зумула d-12 см h-25 см         1  112.0  "
      ]
     },
     "execution_count": 9,
     "metadata": {},
     "output_type": "execute_result"
    }
   ],
   "source": [
    "data.head()"
   ]
  },
  {
   "cell_type": "code",
   "execution_count": 9,
   "id": "de408749-d4f7-43ea-82f8-6aeb74de3871",
   "metadata": {},
   "outputs": [
    {
     "name": "stdout",
     "output_type": "stream",
     "text": [
      "<class 'pandas.core.frame.DataFrame'>\n",
      "RangeIndex: 6737 entries, 0 to 6736\n",
      "Data columns (total 6 columns):\n",
      " #   Column       Non-Null Count  Dtype  \n",
      "---  ------       --------------  -----  \n",
      " 0   date         6737 non-null   int64  \n",
      " 1   customer_id  6737 non-null   object \n",
      " 2   order_id     6737 non-null   int64  \n",
      " 3   product      6737 non-null   object \n",
      " 4   quantity     6737 non-null   int64  \n",
      " 5   price        6737 non-null   float64\n",
      "dtypes: float64(1), int64(3), object(2)\n",
      "memory usage: 315.9+ KB\n"
     ]
    }
   ],
   "source": [
    "data.info()"
   ]
  },
  {
   "cell_type": "code",
   "execution_count": 13,
   "id": "18980e9e-58bc-41f5-8fa3-672f3bd21694",
   "metadata": {},
   "outputs": [
    {
     "data": {
      "text/plain": [
       "Index(['date', 'customer_id', 'order_id', 'product', 'quantity', 'price'], dtype='object')"
      ]
     },
     "execution_count": 13,
     "metadata": {},
     "output_type": "execute_result"
    }
   ],
   "source": [
    "# Колонки\n",
    "data.columns"
   ]
  },
  {
   "cell_type": "code",
   "execution_count": 15,
   "id": "2f669eb4-efe1-411c-a492-43f2bf55e6d7",
   "metadata": {},
   "outputs": [
    {
     "data": {
      "text/html": [
       "<div>\n",
       "<style scoped>\n",
       "    .dataframe tbody tr th:only-of-type {\n",
       "        vertical-align: middle;\n",
       "    }\n",
       "\n",
       "    .dataframe tbody tr th {\n",
       "        vertical-align: top;\n",
       "    }\n",
       "\n",
       "    .dataframe thead th {\n",
       "        text-align: right;\n",
       "    }\n",
       "</style>\n",
       "<table border=\"1\" class=\"dataframe\">\n",
       "  <thead>\n",
       "    <tr style=\"text-align: right;\">\n",
       "      <th></th>\n",
       "      <th>date</th>\n",
       "      <th>order_id</th>\n",
       "      <th>quantity</th>\n",
       "      <th>price</th>\n",
       "    </tr>\n",
       "  </thead>\n",
       "  <tbody>\n",
       "    <tr>\n",
       "      <th>count</th>\n",
       "      <td>6.737000e+03</td>\n",
       "      <td>6737.000000</td>\n",
       "      <td>6737.000000</td>\n",
       "      <td>6737.000000</td>\n",
       "    </tr>\n",
       "    <tr>\n",
       "      <th>mean</th>\n",
       "      <td>2.018855e+09</td>\n",
       "      <td>43128.948345</td>\n",
       "      <td>2.501559</td>\n",
       "      <td>462.028499</td>\n",
       "    </tr>\n",
       "    <tr>\n",
       "      <th>std</th>\n",
       "      <td>3.855185e+05</td>\n",
       "      <td>27899.414662</td>\n",
       "      <td>15.266478</td>\n",
       "      <td>871.296064</td>\n",
       "    </tr>\n",
       "    <tr>\n",
       "      <th>min</th>\n",
       "      <td>2.018100e+09</td>\n",
       "      <td>12624.000000</td>\n",
       "      <td>1.000000</td>\n",
       "      <td>9.000000</td>\n",
       "    </tr>\n",
       "    <tr>\n",
       "      <th>25%</th>\n",
       "      <td>2.019020e+09</td>\n",
       "      <td>14827.000000</td>\n",
       "      <td>1.000000</td>\n",
       "      <td>101.000000</td>\n",
       "    </tr>\n",
       "    <tr>\n",
       "      <th>50%</th>\n",
       "      <td>2.019050e+09</td>\n",
       "      <td>68503.000000</td>\n",
       "      <td>1.000000</td>\n",
       "      <td>135.000000</td>\n",
       "    </tr>\n",
       "    <tr>\n",
       "      <th>75%</th>\n",
       "      <td>2.019061e+09</td>\n",
       "      <td>70504.000000</td>\n",
       "      <td>1.000000</td>\n",
       "      <td>398.000000</td>\n",
       "    </tr>\n",
       "    <tr>\n",
       "      <th>max</th>\n",
       "      <td>2.019103e+09</td>\n",
       "      <td>73164.000000</td>\n",
       "      <td>1000.000000</td>\n",
       "      <td>14917.000000</td>\n",
       "    </tr>\n",
       "  </tbody>\n",
       "</table>\n",
       "</div>"
      ],
      "text/plain": [
       "               date      order_id     quantity         price\n",
       "count  6.737000e+03   6737.000000  6737.000000   6737.000000\n",
       "mean   2.018855e+09  43128.948345     2.501559    462.028499\n",
       "std    3.855185e+05  27899.414662    15.266478    871.296064\n",
       "min    2.018100e+09  12624.000000     1.000000      9.000000\n",
       "25%    2.019020e+09  14827.000000     1.000000    101.000000\n",
       "50%    2.019050e+09  68503.000000     1.000000    135.000000\n",
       "75%    2.019061e+09  70504.000000     1.000000    398.000000\n",
       "max    2.019103e+09  73164.000000  1000.000000  14917.000000"
      ]
     },
     "execution_count": 15,
     "metadata": {},
     "output_type": "execute_result"
    }
   ],
   "source": [
    "# Описание\n",
    "data.describe()"
   ]
  },
  {
   "cell_type": "markdown",
   "id": "620898de-a7b9-4c52-837d-0da3e6caaf0e",
   "metadata": {},
   "source": [
    "# Task 2\r\n"
   ]
  },
  {
   "cell_type": "markdown",
   "id": "6db9fa41-683f-4c9a-9074-eea8148af345",
   "metadata": {},
   "source": [
    "Предобработка данных\n",
    "Цель: Подготовить данные для анализа.\n",
    "\n",
    "Привести названия колонок к единому стилю (например, все строчные буквы).\n",
    "Обработать пропущенные значения (удалить или заполнить).\n",
    "\n",
    "Привести столбцы к нужным типам данных (например, преобразовать столбец с датами к типу `datetime`).\n",
    "Проверить и удалить дублирующиеся строки.\n"
   ]
  },
  {
   "cell_type": "code",
   "execution_count": 11,
   "id": "4ea1797c-2cf9-43ad-b5c9-03502cfc4f0d",
   "metadata": {},
   "outputs": [
    {
     "data": {
      "text/html": [
       "<div>\n",
       "<style scoped>\n",
       "    .dataframe tbody tr th:only-of-type {\n",
       "        vertical-align: middle;\n",
       "    }\n",
       "\n",
       "    .dataframe tbody tr th {\n",
       "        vertical-align: top;\n",
       "    }\n",
       "\n",
       "    .dataframe thead th {\n",
       "        text-align: right;\n",
       "    }\n",
       "</style>\n",
       "<table border=\"1\" class=\"dataframe\">\n",
       "  <thead>\n",
       "    <tr style=\"text-align: right;\">\n",
       "      <th></th>\n",
       "      <th>date</th>\n",
       "      <th>customer_id</th>\n",
       "      <th>order_id</th>\n",
       "      <th>product</th>\n",
       "      <th>quantity</th>\n",
       "      <th>price</th>\n",
       "    </tr>\n",
       "  </thead>\n",
       "  <tbody>\n",
       "  </tbody>\n",
       "</table>\n",
       "</div>"
      ],
      "text/plain": [
       "Empty DataFrame\n",
       "Columns: [date, customer_id, order_id, product, quantity, price]\n",
       "Index: []"
      ]
     },
     "execution_count": 11,
     "metadata": {},
     "output_type": "execute_result"
    }
   ],
   "source": [
    "# Проверяем пустых строк\n",
    "data[data.isnull().any(axis=1)]"
   ]
  },
  {
   "cell_type": "code",
   "execution_count": 13,
   "id": "0edd1c1f-fef3-46e8-8569-922c6fa814af",
   "metadata": {},
   "outputs": [
    {
     "data": {
      "text/html": [
       "<div>\n",
       "<style scoped>\n",
       "    .dataframe tbody tr th:only-of-type {\n",
       "        vertical-align: middle;\n",
       "    }\n",
       "\n",
       "    .dataframe tbody tr th {\n",
       "        vertical-align: top;\n",
       "    }\n",
       "\n",
       "    .dataframe thead th {\n",
       "        text-align: right;\n",
       "    }\n",
       "</style>\n",
       "<table border=\"1\" class=\"dataframe\">\n",
       "  <thead>\n",
       "    <tr style=\"text-align: right;\">\n",
       "      <th></th>\n",
       "      <th>date</th>\n",
       "      <th>customer_id</th>\n",
       "      <th>order_id</th>\n",
       "      <th>product</th>\n",
       "      <th>quantity</th>\n",
       "      <th>price</th>\n",
       "    </tr>\n",
       "  </thead>\n",
       "  <tbody>\n",
       "  </tbody>\n",
       "</table>\n",
       "</div>"
      ],
      "text/plain": [
       "Empty DataFrame\n",
       "Columns: [date, customer_id, order_id, product, quantity, price]\n",
       "Index: []"
      ]
     },
     "execution_count": 13,
     "metadata": {},
     "output_type": "execute_result"
    }
   ],
   "source": [
    "# Проверим на наличие дубликатов\n",
    "data[data.duplicated(keep=False)]"
   ]
  },
  {
   "cell_type": "markdown",
   "id": "f0ad845b-e06c-4eae-a461-2489d7c2dda4",
   "metadata": {},
   "source": [
    "Датаға келтіру"
   ]
  },
  {
   "cell_type": "code",
   "execution_count": 5,
   "id": "4d1ed7ba-815a-48a2-9e1a-e6b7f1b2a64b",
   "metadata": {},
   "outputs": [],
   "source": [
    "data['date']=pd.to_datetime(data['date'].astype(str), format='%Y%m%d%H')\n",
    "data['only_date']=data['date'].dt.date\n",
    "data['time']=data['date'].dt.time\n",
    "data['year']=data['date'].dt.year"
   ]
  },
  {
   "cell_type": "code",
   "execution_count": 7,
   "id": "f6c67bc8-0730-4551-9d07-6765a4510995",
   "metadata": {},
   "outputs": [],
   "source": [
    "# Функция для очичтки колонки product\n",
    "def only_name(product):\n",
    "    parts_of_product=product.split(',')\n",
    "    clear_name=parts_of_product[0].strip()\n",
    "    return clear_name"
   ]
  },
  {
   "cell_type": "code",
   "execution_count": 9,
   "id": "00e15eb7-7e9f-4ee6-9b50-6da0ca53a9ed",
   "metadata": {},
   "outputs": [],
   "source": [
    "# Создаем колонку только для имен продуктов и применяем функцию\n",
    "data['only_product_name']=data['product'].apply(only_name)"
   ]
  },
  {
   "cell_type": "code",
   "execution_count": 11,
   "id": "33bf25f2-88f7-4694-aad6-161d1040d3a0",
   "metadata": {},
   "outputs": [],
   "source": [
    "# Удаляем ненужную колонку\n",
    "data=data.drop('product',axis=1)"
   ]
  },
  {
   "cell_type": "markdown",
   "id": "638f42d8-115f-4713-90a4-0c525519fbd1",
   "metadata": {},
   "source": [
    "# Task 3"
   ]
  },
  {
   "cell_type": "markdown",
   "id": "c67ee29f-c15c-4da0-97bc-ded10949f1d0",
   "metadata": {},
   "source": [
    "Исследовательский анализ данных (`EDA`)\n",
    "Цель: Изучить основные характеристики данных и выявить закономерности.\n",
    "\n",
    "Построить `распределение заказов` по датам.\n",
    "\n",
    "Построить `гистограммы` по количеству товаров и ценам.\n",
    "\n",
    "Выявить самых `популярных клиентов` (по количеству заказов).\n",
    "\n",
    "Определить `самые продаваемые` товары.\n",
    "\n",
    "Проанализировать `среднюю стоимость` заказа.\n"
   ]
  },
  {
   "cell_type": "code",
   "execution_count": 17,
   "id": "1528b5f1-7c81-4f2b-88ca-1ec80c403ba8",
   "metadata": {},
   "outputs": [
    {
     "data": {
      "image/png": "[encoded data removed]",
      "text/plain": [
       "<Figure size 640x480 with 1 Axes>"
      ]
     },
     "metadata": {},
     "output_type": "display_data"
    }
   ],
   "source": [
    "# Распределение заказов по датам.\n",
    "Series=data.groupby('only_date')['order_id'].count()\n",
    "x=Series.index\n",
    "y=Series.values\n",
    "plt.plot(x,y, color='skyblue')\n",
    "plt.title('Распределение заказов по датам')\n",
    "plt.xlabel('Дата')\n",
    "plt.ylabel('Заказы')\n",
    "plt.show()"
   ]
  },
  {
   "cell_type": "code",
   "execution_count": 250,
   "id": "66803ded-188e-4eee-9021-815680c71b2f",
   "metadata": {},
   "outputs": [
    {
     "data": {
      "image/png": "[encoded data removed]",
      "text/plain": [
       "<Figure size 1000x600 with 1 Axes>"
      ]
     },
     "metadata": {},
     "output_type": "display_data"
    }
   ],
   "source": [
    "price_counts = data.groupby('price')['quantity'].count()\n",
    "\n",
    "# Построение столбчатой диаграммы\n",
    "plt.figure(figsize=(10, 6))\n",
    "plt.bar(price_counts.index, price_counts.values, color='skyblue', edgecolor='black')\n",
    "plt.title('Количество товаров по цене')\n",
    "plt.xlabel('Цена')\n",
    "plt.ylabel('Количество товаров')  # Устанавливаем метки по оси X для каждой уникальной цены\n",
    "plt.grid(axis='y', linestyle='--', alpha=0.7)"
   ]
  },
  {
   "cell_type": "code",
   "execution_count": 21,
   "id": "35705183-fdcb-42b5-8724-059de9262dec",
   "metadata": {},
   "outputs": [
    {
     "data": {
      "image/png": "[encoded data removed]",
      "text/plain": [
       "<Figure size 640x480 with 1 Axes>"
      ]
     },
     "metadata": {},
     "output_type": "display_data"
    }
   ],
   "source": [
    "plt.hist(data['price'], bins=10, weights=data['quantity'], color='skyblue', edgecolor='black')\n",
    "plt.show()"
   ]
  },
  {
   "cell_type": "code",
   "execution_count": 10,
   "id": "48a8db93-0215-4168-b02d-540da4d2c7ed",
   "metadata": {},
   "outputs": [
    {
     "data": {
      "image/png": "[encoded data removed]",
      "text/plain": [
       "<Figure size 640x480 with 1 Axes>"
      ]
     },
     "metadata": {},
     "output_type": "display_data"
    }
   ],
   "source": [
    "# У кого больше заказов\n",
    "most_x=data.groupby('customer_id')['order_id'].count()\n",
    "most_x=most_x.sort_values(ascending=False)\n",
    "# For creating names\n",
    "names=[f'id_{i}' for i in range(1,11)]\n",
    "most_x=most_x.head(10)\n",
    "# Столбчатая диаграмма\n",
    "plt.bar(names, most_x.values,edgecolor='yellow')\n",
    "plt.title('Most popular clients')\n",
    "plt.ylabel('Orders')\n",
    "plt.yticks(range(0,950,50))\n",
    "plt.show()"
   ]
  },
  {
   "cell_type": "code",
   "execution_count": 31,
   "id": "30ba7eb3-bef7-4c77-aaa3-11539c08470e",
   "metadata": {},
   "outputs": [],
   "source": [
    "# Аттары ұзын болған соң, басын бөлетін функция\n",
    "def first_word(pro):\n",
    "    pro=pro.split()\n",
    "    pro=pro[0]\n",
    "    return pro"
   ]
  },
  {
   "cell_type": "code",
   "execution_count": 33,
   "id": "55689a08-7f7b-4fca-bcde-f4790f2e680d",
   "metadata": {},
   "outputs": [],
   "source": [
    "# Функцияны колонкаға қолданамыз\n",
    "x=x.reset_index()\n",
    "names=x['only_product_name'].apply(first_word)"
   ]
  },
  {
   "cell_type": "code",
   "execution_count": 35,
   "id": "4eb525ea-ba17-48cb-89ae-7524c6b6263c",
   "metadata": {},
   "outputs": [],
   "source": [
    "# Там есть дубликат, заменяем на новое\n",
    "names[4]='Муляж_2'"
   ]
  },
  {
   "cell_type": "code",
   "execution_count": 37,
   "id": "4b51c5aa-722e-4f8e-8295-e3a0c2e8195b",
   "metadata": {},
   "outputs": [
    {
     "data": {
      "image/png": "[encoded data removed]",
      "text/plain": [
       "<Figure size 1200x600 with 1 Axes>"
      ]
     },
     "metadata": {},
     "output_type": "display_data"
    }
   ],
   "source": [
    "x=data.groupby('only_product_name')['quantity'].sum()\n",
    "x=x.sort_values(ascending=False)\n",
    "x=x.head(10)\n",
    "plt.figure(figsize=(12,6))\n",
    "plt.bar(names,x.values,edgecolor='black')\n",
    "plt.title('Most popular products')\n",
    "plt.xlabel('Products')\n",
    "plt.show()"
   ]
  },
  {
   "cell_type": "code",
   "execution_count": 39,
   "id": "bd60163b-b4f6-4a9a-ac59-b39ef9cbc674",
   "metadata": {},
   "outputs": [
    {
     "data": {
      "image/png": "[encoded data removed]",
      "text/plain": [
       "<Figure size 1000x600 with 1 Axes>"
      ]
     },
     "metadata": {},
     "output_type": "display_data"
    }
   ],
   "source": [
    "# Создаем колонку с общим доходом\n",
    "data['mean_order']=data['quantity']*data['price']\n",
    "x=data.groupby('order_id')['mean_order'].mean()\n",
    "# Построение столбчатой диаграммы\n",
    "plt.figure(figsize=(10, 6))\n",
    "plt.bar(x.index, x.values, color='skyblue', edgecolor='black')\n",
    "plt.title('The average cost of the order')\n",
    "plt.xlabel('order_id')\n",
    "plt.ylabel('mean_order') \n",
    "# Устанавливаем значение в оси y\n",
    "plt.xticks(range(10000,80000,5000))\n",
    "plt.grid(axis='y', linestyle='--', alpha=0.7)"
   ]
  },
  {
   "cell_type": "code",
   "execution_count": 298,
   "id": "92cc9e9f-a6cf-41cf-a823-d2976bdba895",
   "metadata": {},
   "outputs": [
    {
     "data": {
      "text/plain": [
       "order_id\n",
       "12624     187.500000\n",
       "13547     228.000000\n",
       "14480     119.666667\n",
       "14481     150.000000\n",
       "14482     188.000000\n",
       "            ...     \n",
       "73073    3200.000000\n",
       "73077    6899.000000\n",
       "73082    3779.000000\n",
       "73095     952.000000\n",
       "73110    4400.000000\n",
       "Name: mean_order, Length: 849, dtype: float64"
      ]
     },
     "execution_count": 298,
     "metadata": {},
     "output_type": "execute_result"
    }
   ],
   "source": [
    "x"
   ]
  },
  {
   "cell_type": "markdown",
   "id": "6cadf957-ceab-414c-bb7d-79169edf0770",
   "metadata": {},
   "source": [
    "# Task 4"
   ]
  },
  {
   "cell_type": "markdown",
   "id": "b71c4316-76e9-4ac3-9bda-806dd7cd5038",
   "metadata": {},
   "source": [
    "**Статистические характеристики**\n",
    "`Цель`: Рассчитать основные статистические характеристики данных.\n",
    "\n",
    "Рассчитать `среднее`, `медиану`, `стандартное отклонение` для количества товаров и цен.\n",
    "\n",
    "Выявить наиболее часто встречающиеся значения (`мода`).\n",
    "\n",
    "Построить `боксплоты` для визуализации распределения данных."
   ]
  },
  {
   "cell_type": "code",
   "execution_count": 47,
   "id": "e5fae385-918e-45f0-8900-4d8d125e027c",
   "metadata": {},
   "outputs": [
    {
     "data": {
      "text/html": [
       "<div>\n",
       "<style scoped>\n",
       "    .dataframe tbody tr th:only-of-type {\n",
       "        vertical-align: middle;\n",
       "    }\n",
       "\n",
       "    .dataframe tbody tr th {\n",
       "        vertical-align: top;\n",
       "    }\n",
       "\n",
       "    .dataframe thead th {\n",
       "        text-align: right;\n",
       "    }\n",
       "</style>\n",
       "<table border=\"1\" class=\"dataframe\">\n",
       "  <thead>\n",
       "    <tr style=\"text-align: right;\">\n",
       "      <th></th>\n",
       "      <th>quantity</th>\n",
       "      <th>price</th>\n",
       "    </tr>\n",
       "  </thead>\n",
       "  <tbody>\n",
       "    <tr>\n",
       "      <th>mean</th>\n",
       "      <td>2.501559</td>\n",
       "      <td>462.028499</td>\n",
       "    </tr>\n",
       "    <tr>\n",
       "      <th>median</th>\n",
       "      <td>1.000000</td>\n",
       "      <td>135.000000</td>\n",
       "    </tr>\n",
       "    <tr>\n",
       "      <th>std</th>\n",
       "      <td>15.266478</td>\n",
       "      <td>871.296064</td>\n",
       "    </tr>\n",
       "  </tbody>\n",
       "</table>\n",
       "</div>"
      ],
      "text/plain": [
       "         quantity       price\n",
       "mean     2.501559  462.028499\n",
       "median   1.000000  135.000000\n",
       "std     15.266478  871.296064"
      ]
     },
     "execution_count": 47,
     "metadata": {},
     "output_type": "execute_result"
    }
   ],
   "source": [
    "data[['quantity','price']].agg(['mean','median','std'])"
   ]
  },
  {
   "cell_type": "code",
   "execution_count": 85,
   "id": "333575dc-648e-43fe-acd4-f7e9ca70e235",
   "metadata": {},
   "outputs": [
    {
     "data": {
      "text/html": [
       "<div>\n",
       "<style scoped>\n",
       "    .dataframe tbody tr th:only-of-type {\n",
       "        vertical-align: middle;\n",
       "    }\n",
       "\n",
       "    .dataframe tbody tr th {\n",
       "        vertical-align: top;\n",
       "    }\n",
       "\n",
       "    .dataframe thead tr th {\n",
       "        text-align: left;\n",
       "    }\n",
       "</style>\n",
       "<table border=\"1\" class=\"dataframe\">\n",
       "  <thead>\n",
       "    <tr>\n",
       "      <th></th>\n",
       "      <th>quantity</th>\n",
       "      <th>price</th>\n",
       "    </tr>\n",
       "    <tr>\n",
       "      <th></th>\n",
       "      <th>mode</th>\n",
       "      <th>mode</th>\n",
       "    </tr>\n",
       "  </thead>\n",
       "  <tbody>\n",
       "    <tr>\n",
       "      <th>0</th>\n",
       "      <td>1</td>\n",
       "      <td>120.0</td>\n",
       "    </tr>\n",
       "  </tbody>\n",
       "</table>\n",
       "</div>"
      ],
      "text/plain": [
       "  quantity  price\n",
       "      mode   mode\n",
       "0        1  120.0"
      ]
     },
     "execution_count": 85,
     "metadata": {},
     "output_type": "execute_result"
    }
   ],
   "source": [
    "data[['quantity','price']].agg(['mode'])"
   ]
  },
  {
   "cell_type": "code",
   "execution_count": 57,
   "id": "74acf2e3-d0dc-4fc2-a7e9-2ecd28cd9a2b",
   "metadata": {},
   "outputs": [
    {
     "data": {
      "image/png": "[encoded data removed]",
      "text/plain": [
       "<Figure size 640x480 with 1 Axes>"
      ]
     },
     "metadata": {},
     "output_type": "display_data"
    },
    {
     "data": {
      "image/png": "[encoded data removed]",
      "text/plain": [
       "<Figure size 640x480 with 1 Axes>"
      ]
     },
     "metadata": {},
     "output_type": "display_data"
    }
   ],
   "source": [
    "# Quantity boxplot\n",
    "x=data['quantity']\n",
    "plt.title('Quantity boxplot')\n",
    "plt.boxplot(x)\n",
    "plt.xlabel('quantity')\n",
    "plt.show()\n",
    "\n",
    "# Price boxplot\n",
    "y=data['price']\n",
    "plt.boxplot(y)\n",
    "plt.title('Price boxplot')\n",
    "plt.xlabel('price')\n",
    "plt.show()"
   ]
  },
  {
   "cell_type": "markdown",
   "id": "76733f73-e980-427b-82a8-c9d06264b69b",
   "metadata": {},
   "source": [
    "# Task 5"
   ]
  },
  {
   "cell_type": "markdown",
   "id": "11812726-2c9c-454f-837f-93830bc3ef7f",
   "metadata": {},
   "source": [
    "`Цель`: Выявить аномальные значения в данных.\n",
    "\n",
    "Использовать межквартильный размах (`IQR`) для определения выбросов.\n",
    "\n",
    "Построить `боксплоты` для визуализации `выбросов`.\n",
    "\n",
    "Проанализировать выбросы и принять решение о необходимости их `удаления`.\n"
   ]
  },
  {
   "cell_type": "code",
   "execution_count": 18,
   "id": "98092acf-6187-46b0-b16f-aebb19104398",
   "metadata": {},
   "outputs": [
    {
     "data": {
      "text/plain": [
       "0.0"
      ]
     },
     "execution_count": 18,
     "metadata": {},
     "output_type": "execute_result"
    }
   ],
   "source": [
    "# IQR by quantity\n",
    "np.percentile(data['quantity'],75)-np.percentile(data['quantity'],25)"
   ]
  },
  {
   "cell_type": "code",
   "execution_count": 20,
   "id": "3e26d32f-b9fa-45c9-a7d6-aabca74bb6a0",
   "metadata": {},
   "outputs": [
    {
     "data": {
      "text/plain": [
       "297.0"
      ]
     },
     "execution_count": 20,
     "metadata": {},
     "output_type": "execute_result"
    }
   ],
   "source": [
    "# IQR by price\n",
    "np.percentile(data['price'],75)-np.percentile(data['price'],25)"
   ]
  },
  {
   "cell_type": "code",
   "execution_count": 55,
   "id": "848508db-e78c-41cc-9c9d-036ff15e71b0",
   "metadata": {},
   "outputs": [
    {
     "data": {
      "text/plain": [
       "price\n",
       "120.0     1046\n",
       "38.0       291\n",
       "90.0       264\n",
       "135.0      240\n",
       "188.0      223\n",
       "          ... \n",
       "178.0        1\n",
       "1275.0       1\n",
       "3374.0       1\n",
       "5474.0       1\n",
       "3779.0       1\n",
       "Name: count, Length: 360, dtype: int64"
      ]
     },
     "execution_count": 55,
     "metadata": {},
     "output_type": "execute_result"
    }
   ],
   "source": [
    "# Уникальные значение в колонке прайс по убыванию\n",
    "data['price'].value_counts()"
   ]
  },
  {
   "cell_type": "code",
   "execution_count": 36,
   "id": "9ec8d677-0aad-4696-818c-6254ec636d16",
   "metadata": {},
   "outputs": [],
   "source": [
    "# Пределы\n",
    "data_q=data[data['quantity']<=400]\n",
    "data_p=data[data['price']<=400]"
   ]
  },
  {
   "cell_type": "code",
   "execution_count": 44,
   "id": "e7bc6dff-a79f-4b39-8cdf-73cba409f6ec",
   "metadata": {},
   "outputs": [
    {
     "data": {
      "image/png": "[encoded data removed]",
      "text/plain": [
       "<Figure size 640x480 with 1 Axes>"
      ]
     },
     "metadata": {},
     "output_type": "display_data"
    },
    {
     "data": {
      "image/png": "[encoded data removed]",
      "text/plain": [
       "<Figure size 640x480 with 1 Axes>"
      ]
     },
     "metadata": {},
     "output_type": "display_data"
    }
   ],
   "source": [
    "# Quantity boxplot\n",
    "x=data_q['quantity']\n",
    "plt.boxplot(x)\n",
    "plt.title('Quantity boxplot')\n",
    "plt.xlabel('quantity')\n",
    "plt.show()\n",
    "\n",
    "# Price boxplot\n",
    "y=data_p['price']\n",
    "plt.boxplot(y)\n",
    "plt.title('Price boxplot')\n",
    "plt.xlabel('price')\n",
    "plt.yticks(range(0,400,40))\n",
    "plt.show()"
   ]
  },
  {
   "cell_type": "markdown",
   "id": "f95ba16d-f0bc-4401-996a-8b7bc6fc6343",
   "metadata": {},
   "source": [
    "# Task 6"
   ]
  },
  {
   "cell_type": "markdown",
   "id": "b1b8f241-3a99-4367-ba94-e34ba688f877",
   "metadata": {},
   "source": [
    "`Цель`: Найти и объяснить аномальные значения в датах заказов.\n",
    "\n",
    "Построить временной ряд заказов.\n",
    "\n",
    "Выявить даты с необычно `высоким` или `низким` количеством заказов.\n",
    "\n",
    "Попытаться объяснить причины `аномалий` (например, сезонные распродажи, праздники)."
   ]
  },
  {
   "cell_type": "code",
   "execution_count": 29,
   "id": "b3255206-0429-49b6-8b58-fc1fe10d7475",
   "metadata": {},
   "outputs": [
    {
     "data": {
      "text/html": [
       "<div>\n",
       "<style scoped>\n",
       "    .dataframe tbody tr th:only-of-type {\n",
       "        vertical-align: middle;\n",
       "    }\n",
       "\n",
       "    .dataframe tbody tr th {\n",
       "        vertical-align: top;\n",
       "    }\n",
       "\n",
       "    .dataframe thead th {\n",
       "        text-align: right;\n",
       "    }\n",
       "</style>\n",
       "<table border=\"1\" class=\"dataframe\">\n",
       "  <thead>\n",
       "    <tr style=\"text-align: right;\">\n",
       "      <th></th>\n",
       "      <th></th>\n",
       "      <th>order_id</th>\n",
       "      <th>quantity</th>\n",
       "    </tr>\n",
       "    <tr>\n",
       "      <th>year</th>\n",
       "      <th>only_date</th>\n",
       "      <th></th>\n",
       "      <th></th>\n",
       "    </tr>\n",
       "  </thead>\n",
       "  <tbody>\n",
       "    <tr>\n",
       "      <th rowspan=\"9\" valign=\"top\">2019</th>\n",
       "      <th>2019-05-13</th>\n",
       "      <td>146</td>\n",
       "      <td>173</td>\n",
       "    </tr>\n",
       "    <tr>\n",
       "      <th>2019-06-04</th>\n",
       "      <td>141</td>\n",
       "      <td>188</td>\n",
       "    </tr>\n",
       "    <tr>\n",
       "      <th>2019-06-07</th>\n",
       "      <td>120</td>\n",
       "      <td>131</td>\n",
       "    </tr>\n",
       "    <tr>\n",
       "      <th>2019-06-02</th>\n",
       "      <td>101</td>\n",
       "      <td>102</td>\n",
       "    </tr>\n",
       "    <tr>\n",
       "      <th>2019-06-05</th>\n",
       "      <td>99</td>\n",
       "      <td>129</td>\n",
       "    </tr>\n",
       "    <tr>\n",
       "      <th>...</th>\n",
       "      <td>...</td>\n",
       "      <td>...</td>\n",
       "    </tr>\n",
       "    <tr>\n",
       "      <th>2019-01-04</th>\n",
       "      <td>2</td>\n",
       "      <td>2</td>\n",
       "    </tr>\n",
       "    <tr>\n",
       "      <th>2019-06-23</th>\n",
       "      <td>1</td>\n",
       "      <td>10</td>\n",
       "    </tr>\n",
       "    <tr>\n",
       "      <th>2019-08-10</th>\n",
       "      <td>1</td>\n",
       "      <td>1</td>\n",
       "    </tr>\n",
       "    <tr>\n",
       "      <th>2018</th>\n",
       "      <th>2018-12-30</th>\n",
       "      <td>1</td>\n",
       "      <td>2</td>\n",
       "    </tr>\n",
       "    <tr>\n",
       "      <th>2019</th>\n",
       "      <th>2019-07-06</th>\n",
       "      <td>1</td>\n",
       "      <td>1</td>\n",
       "    </tr>\n",
       "  </tbody>\n",
       "</table>\n",
       "<p>394 rows × 2 columns</p>\n",
       "</div>"
      ],
      "text/plain": [
       "                 order_id  quantity\n",
       "year only_date                     \n",
       "2019 2019-05-13       146       173\n",
       "     2019-06-04       141       188\n",
       "     2019-06-07       120       131\n",
       "     2019-06-02       101       102\n",
       "     2019-06-05        99       129\n",
       "...                   ...       ...\n",
       "     2019-01-04         2         2\n",
       "     2019-06-23         1        10\n",
       "     2019-08-10         1         1\n",
       "2018 2018-12-30         1         2\n",
       "2019 2019-07-06         1         1\n",
       "\n",
       "[394 rows x 2 columns]"
      ]
     },
     "execution_count": 29,
     "metadata": {},
     "output_type": "execute_result"
    }
   ],
   "source": [
    "# Группируем по датам \n",
    "group=data.groupby(['year','only_date']).agg({'order_id':'count','quantity':'sum'})\n",
    "group.sort_values(by='order_id',ascending=False)"
   ]
  },
  {
   "cell_type": "code",
   "execution_count": 31,
   "id": "61dc98d1-e9a8-4022-9898-c2ed134cf213",
   "metadata": {},
   "outputs": [
    {
     "data": {
      "text/html": [
       "<div>\n",
       "<style scoped>\n",
       "    .dataframe tbody tr th:only-of-type {\n",
       "        vertical-align: middle;\n",
       "    }\n",
       "\n",
       "    .dataframe tbody tr th {\n",
       "        vertical-align: top;\n",
       "    }\n",
       "\n",
       "    .dataframe thead th {\n",
       "        text-align: right;\n",
       "    }\n",
       "</style>\n",
       "<table border=\"1\" class=\"dataframe\">\n",
       "  <thead>\n",
       "    <tr style=\"text-align: right;\">\n",
       "      <th></th>\n",
       "      <th>order_id</th>\n",
       "      <th>quantity</th>\n",
       "    </tr>\n",
       "    <tr>\n",
       "      <th>time</th>\n",
       "      <th></th>\n",
       "      <th></th>\n",
       "    </tr>\n",
       "  </thead>\n",
       "  <tbody>\n",
       "    <tr>\n",
       "      <th>13:00:00</th>\n",
       "      <td>569</td>\n",
       "      <td>1257</td>\n",
       "    </tr>\n",
       "    <tr>\n",
       "      <th>09:00:00</th>\n",
       "      <td>517</td>\n",
       "      <td>1183</td>\n",
       "    </tr>\n",
       "    <tr>\n",
       "      <th>10:00:00</th>\n",
       "      <td>487</td>\n",
       "      <td>1225</td>\n",
       "    </tr>\n",
       "    <tr>\n",
       "      <th>11:00:00</th>\n",
       "      <td>475</td>\n",
       "      <td>1360</td>\n",
       "    </tr>\n",
       "    <tr>\n",
       "      <th>14:00:00</th>\n",
       "      <td>457</td>\n",
       "      <td>1400</td>\n",
       "    </tr>\n",
       "    <tr>\n",
       "      <th>16:00:00</th>\n",
       "      <td>455</td>\n",
       "      <td>970</td>\n",
       "    </tr>\n",
       "    <tr>\n",
       "      <th>08:00:00</th>\n",
       "      <td>416</td>\n",
       "      <td>1210</td>\n",
       "    </tr>\n",
       "    <tr>\n",
       "      <th>17:00:00</th>\n",
       "      <td>396</td>\n",
       "      <td>819</td>\n",
       "    </tr>\n",
       "    <tr>\n",
       "      <th>12:00:00</th>\n",
       "      <td>394</td>\n",
       "      <td>769</td>\n",
       "    </tr>\n",
       "    <tr>\n",
       "      <th>15:00:00</th>\n",
       "      <td>378</td>\n",
       "      <td>2136</td>\n",
       "    </tr>\n",
       "    <tr>\n",
       "      <th>22:00:00</th>\n",
       "      <td>376</td>\n",
       "      <td>606</td>\n",
       "    </tr>\n",
       "    <tr>\n",
       "      <th>19:00:00</th>\n",
       "      <td>374</td>\n",
       "      <td>545</td>\n",
       "    </tr>\n",
       "    <tr>\n",
       "      <th>20:00:00</th>\n",
       "      <td>305</td>\n",
       "      <td>662</td>\n",
       "    </tr>\n",
       "    <tr>\n",
       "      <th>21:00:00</th>\n",
       "      <td>287</td>\n",
       "      <td>924</td>\n",
       "    </tr>\n",
       "    <tr>\n",
       "      <th>18:00:00</th>\n",
       "      <td>276</td>\n",
       "      <td>535</td>\n",
       "    </tr>\n",
       "    <tr>\n",
       "      <th>07:00:00</th>\n",
       "      <td>162</td>\n",
       "      <td>630</td>\n",
       "    </tr>\n",
       "    <tr>\n",
       "      <th>23:00:00</th>\n",
       "      <td>115</td>\n",
       "      <td>177</td>\n",
       "    </tr>\n",
       "    <tr>\n",
       "      <th>00:00:00</th>\n",
       "      <td>82</td>\n",
       "      <td>110</td>\n",
       "    </tr>\n",
       "    <tr>\n",
       "      <th>06:00:00</th>\n",
       "      <td>73</td>\n",
       "      <td>103</td>\n",
       "    </tr>\n",
       "    <tr>\n",
       "      <th>01:00:00</th>\n",
       "      <td>44</td>\n",
       "      <td>51</td>\n",
       "    </tr>\n",
       "    <tr>\n",
       "      <th>05:00:00</th>\n",
       "      <td>40</td>\n",
       "      <td>77</td>\n",
       "    </tr>\n",
       "    <tr>\n",
       "      <th>04:00:00</th>\n",
       "      <td>28</td>\n",
       "      <td>72</td>\n",
       "    </tr>\n",
       "    <tr>\n",
       "      <th>02:00:00</th>\n",
       "      <td>21</td>\n",
       "      <td>22</td>\n",
       "    </tr>\n",
       "    <tr>\n",
       "      <th>03:00:00</th>\n",
       "      <td>10</td>\n",
       "      <td>10</td>\n",
       "    </tr>\n",
       "  </tbody>\n",
       "</table>\n",
       "</div>"
      ],
      "text/plain": [
       "          order_id  quantity\n",
       "time                        \n",
       "13:00:00       569      1257\n",
       "09:00:00       517      1183\n",
       "10:00:00       487      1225\n",
       "11:00:00       475      1360\n",
       "14:00:00       457      1400\n",
       "16:00:00       455       970\n",
       "08:00:00       416      1210\n",
       "17:00:00       396       819\n",
       "12:00:00       394       769\n",
       "15:00:00       378      2136\n",
       "22:00:00       376       606\n",
       "19:00:00       374       545\n",
       "20:00:00       305       662\n",
       "21:00:00       287       924\n",
       "18:00:00       276       535\n",
       "07:00:00       162       630\n",
       "23:00:00       115       177\n",
       "00:00:00        82       110\n",
       "06:00:00        73       103\n",
       "01:00:00        44        51\n",
       "05:00:00        40        77\n",
       "04:00:00        28        72\n",
       "02:00:00        21        22\n",
       "03:00:00        10        10"
      ]
     },
     "execution_count": 31,
     "metadata": {},
     "output_type": "execute_result"
    }
   ],
   "source": [
    "# Группируем по времени\n",
    "group=data.groupby('time').agg({'order_id':'count','quantity':'sum'})\n",
    "group.sort_values(by='order_id',ascending=False)"
   ]
  },
  {
   "cell_type": "code",
   "execution_count": 145,
   "id": "aa455147-a1f6-4a4d-98e3-c3fcb88f6b32",
   "metadata": {},
   "outputs": [
    {
     "data": {
      "text/html": [
       "<div>\n",
       "<style scoped>\n",
       "    .dataframe tbody tr th:only-of-type {\n",
       "        vertical-align: middle;\n",
       "    }\n",
       "\n",
       "    .dataframe tbody tr th {\n",
       "        vertical-align: top;\n",
       "    }\n",
       "\n",
       "    .dataframe thead th {\n",
       "        text-align: right;\n",
       "    }\n",
       "</style>\n",
       "<table border=\"1\" class=\"dataframe\">\n",
       "  <thead>\n",
       "    <tr style=\"text-align: right;\">\n",
       "      <th></th>\n",
       "      <th></th>\n",
       "      <th>order_id</th>\n",
       "      <th>quantity</th>\n",
       "    </tr>\n",
       "    <tr>\n",
       "      <th>year</th>\n",
       "      <th>only_date</th>\n",
       "      <th></th>\n",
       "      <th></th>\n",
       "    </tr>\n",
       "  </thead>\n",
       "  <tbody>\n",
       "    <tr>\n",
       "      <th>2018</th>\n",
       "      <th>2018-10-02</th>\n",
       "      <td>43</td>\n",
       "      <td>86</td>\n",
       "    </tr>\n",
       "    <tr>\n",
       "      <th>2019</th>\n",
       "      <th>2019-05-13</th>\n",
       "      <td>146</td>\n",
       "      <td>173</td>\n",
       "    </tr>\n",
       "  </tbody>\n",
       "</table>\n",
       "</div>"
      ],
      "text/plain": [
       "                 order_id  quantity\n",
       "year only_date                     \n",
       "2018 2018-10-02        43        86\n",
       "2019 2019-05-13       146       173"
      ]
     },
     "execution_count": 145,
     "metadata": {},
     "output_type": "execute_result"
    }
   ],
   "source": [
    "# Top by years\n",
    "group=data.groupby(['year','only_date']).agg({'order_id':'count','quantity':'sum'})\n",
    "group.loc[group.groupby('year')['order_id'].idxmax()]"
   ]
  },
  {
   "cell_type": "markdown",
   "id": "1e231f0a-9c86-4f06-8e3d-b7aa09c24365",
   "metadata": {},
   "source": [
    "# Task 7"
   ]
  },
  {
   "cell_type": "markdown",
   "id": "be46e49a-e5fb-4f09-8283-cb53c5c94879",
   "metadata": {},
   "source": [
    "`Цель`: Разделить товары на категории для дальнейшего анализа.\n",
    "\n",
    "Определить `основные` категории товаров на основе наименований.\n",
    "\n",
    "Добавить `новую колонку` с категориями товаров.\n",
    "\n",
    "Проанализировать распределение заказов по категориям."
   ]
  },
  {
   "cell_type": "code",
   "execution_count": 13,
   "id": "21ddf852-e6a5-4758-8cd8-78566b82ff56",
   "metadata": {},
   "outputs": [],
   "source": [
    "# Функция которая разделяет на категории\n",
    "def give_category(product):\n",
    "    if 'растение' in product.lower() or  'рассада' in product.lower() \\\n",
    "    or 'герань' in product.lower() or 'радермахера' in product.lower()\\\n",
    "    or 'циперус ' in product.lower() or 'хризолидокарпус ' in product.lower()\\\n",
    "    or 'Пеларгония' in product.lower():\n",
    "        return 'растение'\n",
    "    elif 'сушилка' in product.lower() or 'таз' in product.lower()\\\n",
    "    or 'щетка' in product.lower() or 'штора' in product.lower():\n",
    "        return 'бытовые товары'\n",
    "    elif 'нож' in product.lower() or 'банка' in product.lower()\\\n",
    "    or 'бидон' in product.lower() or 'кружка' in product.lower()\\\n",
    "    or 'cалатник' in product.lower():\n",
    "        return 'посуда'\n",
    "    elif 'муляж' in product.lower() or 'искусственный' in product.lower():\n",
    "        return 'декор'\n",
    "    elif 'дыня' in product.lower():\n",
    "        return 'фрукты'\n",
    "    elif 'томата' in product.lower():\n",
    "        return 'овощи'\n",
    "    elif 'сумка' in product.lower():\n",
    "        return 'сумки для покупок'\n",
    "    elif 'коврик' in product.lower():\n",
    "        return 'коврики'\n",
    "    else:\n",
    "        return 'другое'"
   ]
  },
  {
   "cell_type": "code",
   "execution_count": 15,
   "id": "7b942fed-003f-4514-b1c3-ee2539ff5884",
   "metadata": {},
   "outputs": [],
   "source": [
    "# Создание колонки category\n",
    "data['category']=data['only_product_name'].apply(give_category)"
   ]
  },
  {
   "cell_type": "code",
   "execution_count": 17,
   "id": "28fbeaef-b8f4-40fe-b681-268db36e0f2c",
   "metadata": {},
   "outputs": [
    {
     "data": {
      "text/html": [
       "<div>\n",
       "<style scoped>\n",
       "    .dataframe tbody tr th:only-of-type {\n",
       "        vertical-align: middle;\n",
       "    }\n",
       "\n",
       "    .dataframe tbody tr th {\n",
       "        vertical-align: top;\n",
       "    }\n",
       "\n",
       "    .dataframe thead th {\n",
       "        text-align: right;\n",
       "    }\n",
       "</style>\n",
       "<table border=\"1\" class=\"dataframe\">\n",
       "  <thead>\n",
       "    <tr style=\"text-align: right;\">\n",
       "      <th></th>\n",
       "      <th>category</th>\n",
       "      <th>only_product_name</th>\n",
       "    </tr>\n",
       "  </thead>\n",
       "  <tbody>\n",
       "    <tr>\n",
       "      <th>0</th>\n",
       "      <td>бытовые товары</td>\n",
       "      <td>548</td>\n",
       "    </tr>\n",
       "    <tr>\n",
       "      <th>1</th>\n",
       "      <td>декор</td>\n",
       "      <td>302</td>\n",
       "    </tr>\n",
       "    <tr>\n",
       "      <th>2</th>\n",
       "      <td>другое</td>\n",
       "      <td>3223</td>\n",
       "    </tr>\n",
       "    <tr>\n",
       "      <th>3</th>\n",
       "      <td>коврики</td>\n",
       "      <td>121</td>\n",
       "    </tr>\n",
       "    <tr>\n",
       "      <th>4</th>\n",
       "      <td>овощи</td>\n",
       "      <td>162</td>\n",
       "    </tr>\n",
       "    <tr>\n",
       "      <th>5</th>\n",
       "      <td>посуда</td>\n",
       "      <td>92</td>\n",
       "    </tr>\n",
       "    <tr>\n",
       "      <th>6</th>\n",
       "      <td>растение</td>\n",
       "      <td>1841</td>\n",
       "    </tr>\n",
       "    <tr>\n",
       "      <th>7</th>\n",
       "      <td>сумки для покупок</td>\n",
       "      <td>422</td>\n",
       "    </tr>\n",
       "    <tr>\n",
       "      <th>8</th>\n",
       "      <td>фрукты</td>\n",
       "      <td>26</td>\n",
       "    </tr>\n",
       "  </tbody>\n",
       "</table>\n",
       "</div>"
      ],
      "text/plain": [
       "            category  only_product_name\n",
       "0     бытовые товары                548\n",
       "1              декор                302\n",
       "2             другое               3223\n",
       "3            коврики                121\n",
       "4              овощи                162\n",
       "5             посуда                 92\n",
       "6           растение               1841\n",
       "7  сумки для покупок                422\n",
       "8             фрукты                 26"
      ]
     },
     "execution_count": 17,
     "metadata": {},
     "output_type": "execute_result"
    }
   ],
   "source": [
    "# Group by category\n",
    "x=data.groupby('category')['only_product_name'].count()\n",
    "x.reset_index()"
   ]
  },
  {
   "cell_type": "markdown",
   "id": "cbe35ca0-eee9-47b6-97cb-49e64b7114d6",
   "metadata": {},
   "source": [
    "# Task 8"
   ]
  },
  {
   "cell_type": "markdown",
   "id": "942b00a0-a3e5-4d22-ad07-0cee44bc3051",
   "metadata": {},
   "source": [
    "`Цель`: Определить товары основного и дополнительного ассортимента.\n",
    "\n",
    "Определить критерии для выделения `основного ассортимента` (например, по частоте заказов).\n",
    "                                                          \n",
    "Выделить товары `основного ассортимента`.\n",
    "\n",
    "Проанализировать `долю` основного ассортимента в общих продажах."
   ]
  },
  {
   "cell_type": "code",
   "execution_count": 19,
   "id": "938890ef-ac02-4bcd-83fa-cf2846cb11e1",
   "metadata": {},
   "outputs": [],
   "source": [
    "# Топ продукты по количеству заказов\n",
    "x=data.groupby('only_product_name')['quantity'].sum()\n",
    "x=x.reset_index()\n",
    "x=x.sort_values(by='quantity',ascending=False)\n",
    "# Основной ассортимент\n",
    "main=x['quantity'].head(6)\n",
    "# Дополнительный ассортимент\n",
    "add=x.drop([117,801,188,634,804,1162])['quantity'].sum()"
   ]
  },
  {
   "cell_type": "code",
   "execution_count": 21,
   "id": "5d86edb3-550e-4761-a03e-210ea55e5dc2",
   "metadata": {},
   "outputs": [],
   "source": [
    "# Екі ассортиментті қосу/Добавление двух ассортиментов\n",
    "main[0]=add"
   ]
  },
  {
   "cell_type": "code",
   "execution_count": 23,
   "id": "7b870ace-8bec-4f70-a87a-9d80a27aaba5",
   "metadata": {},
   "outputs": [
    {
     "data": {
      "image/png": "[encoded data removed]",
      "text/plain": [
       "<Figure size 640x480 with 1 Axes>"
      ]
     },
     "metadata": {},
     "output_type": "display_data"
    }
   ],
   "source": [
    "# Диаграмма pie\n",
    "names=['Вантуз',\n",
    "       'Муляж',\n",
    "       'Вешалки',\n",
    "       'Крепеж',\n",
    "       'Муляж_2',\n",
    "       'Пружина',\n",
    "       'Дополнительный ассортимент']\n",
    "plt.pie(main, labels=names, shadow=True,radius=1.2,autopct='%1.0f%%')\n",
    "plt.title('Доля основного ассортимента')\n",
    "plt.show()"
   ]
  },
  {
   "cell_type": "markdown",
   "id": "4237231c-7af4-4bf5-a9ff-a595e6162cb3",
   "metadata": {},
   "source": [
    "# Task 9"
   ]
  },
  {
   "cell_type": "markdown",
   "id": "3f86ab8d-00ae-4292-b964-210e6c17360a",
   "metadata": {},
   "source": [
    "`Цель`: Проверить выдвинутую гипотезу о продажах.\n",
    "\n",
    "Сформулировать `гипотезу` (например, основная доля продаж приходится на ограниченный ассортимент товаров).\n",
    "\n",
    "Выбрать подходящий статистический `тест` для проверки гипотезы.\n",
    "\n",
    "Провести тест и интерпретировать `результаты`."
   ]
  },
  {
   "cell_type": "code",
   "execution_count": 89,
   "id": "3093b680-7c68-43a5-b639-e11e8b13af90",
   "metadata": {},
   "outputs": [],
   "source": [
    "from scipy.stats import mannwhitneyu"
   ]
  },
  {
   "cell_type": "code",
   "execution_count": 23,
   "id": "70214969-9a2d-4ac1-8467-24d258a305b7",
   "metadata": {},
   "outputs": [],
   "source": [
    "# All sales \n",
    "data['total_sales']=data['quantity']*data['price']"
   ]
  },
  {
   "cell_type": "code",
   "execution_count": 157,
   "id": "05bd5d8b-2cf2-4d83-ade9-31cd917fe3a0",
   "metadata": {},
   "outputs": [
    {
     "data": {
      "image/png": "[encoded data removed]",
      "text/plain": [
       "<Figure size 640x480 with 1 Axes>"
      ]
     },
     "metadata": {},
     "output_type": "display_data"
    }
   ],
   "source": [
    "# Проверяем распределение данны, чтобы знать какой тест использвать\n",
    "plt.hist(data['price'])\n",
    "plt.title('Распределение цены')\n",
    "plt.show()"
   ]
  },
  {
   "cell_type": "code",
   "execution_count": 95,
   "id": "ff609f73-6429-4307-9137-c9aa3f6badd0",
   "metadata": {},
   "outputs": [],
   "source": [
    "# Суммируем продажи по продуктам\n",
    "y=data.groupby('only_product_name')['total_sales'].sum()\n",
    "y=y.reset_index()"
   ]
  },
  {
   "cell_type": "code",
   "execution_count": 91,
   "id": "bc64a161-4f9b-4842-a493-3c2caf9c3790",
   "metadata": {},
   "outputs": [
    {
     "data": {
      "text/plain": [
       "Index([ 117,  801,  188,  634,  804, 1162, 1416, 1077,    7,  211, 1573,  749,\n",
       "       2160, 2148,  635, 2149, 2150, 2101, 2162,  652],\n",
       "      dtype='int64')"
      ]
     },
     "execution_count": 91,
     "metadata": {},
     "output_type": "execute_result"
    }
   ],
   "source": [
    "# топ 20 индекс по заказам\n",
    "xx=x.head(20)\n",
    "xx.index"
   ]
  },
  {
   "cell_type": "code",
   "execution_count": 83,
   "id": "470793c2-e267-4765-bcab-e93e0a2aa640",
   "metadata": {},
   "outputs": [],
   "source": [
    "# Дополнительный ассортимент\n",
    "dop_assort=y.drop([ 117,  801,  188,  634,  804, 1162, 1416, 1077,    7,  211, 1573,  749,\n",
    "       2160, 2148,  635, 2149, 2150, 2101, 2162,  652])\n",
    "dop_assort=dop_assort['total_sales']"
   ]
  },
  {
   "cell_type": "code",
   "execution_count": 77,
   "id": "3e569e14-a93c-46d0-91eb-93acbdda4c97",
   "metadata": {},
   "outputs": [],
   "source": [
    "# Основной ассортимент\n",
    "main_assort=y.loc[[ 117, 801, 188, 634, 804, 1162, 1416, 1077, 7, 211, 1573, 749,\n",
    "       2160, 2148,  635, 2149, 2150, 2101, 2162,  652]]\n",
    "main_assort=main_assort['total_sales']"
   ]
  },
  {
   "cell_type": "code",
   "execution_count": 105,
   "id": "a93a4fa0-45a9-431f-a40d-e3e6e62dcc92",
   "metadata": {},
   "outputs": [],
   "source": [
    "# Test \n",
    "statistic,pvalue=mannwhitneyu(main_assort,dop_assort)"
   ]
  },
  {
   "cell_type": "code",
   "execution_count": 121,
   "id": "6dd0d9df-5f8b-47b8-979b-c83679ec6212",
   "metadata": {},
   "outputs": [
    {
     "name": "stdout",
     "output_type": "stream",
     "text": [
      "H1 is True. Основная доля продаж приходится на ограниченный ассортимент товаров\n"
     ]
    }
   ],
   "source": [
    "# Проверяем\n",
    "a=0.05\n",
    "if pvalue<a:\n",
    "    print('H1 is True. Основная доля продаж приходится на ограниченный ассортимент товаров')\n",
    "else:\n",
    "    print('H0 is True. Нет разницы')"
   ]
  },
  {
   "cell_type": "code",
   "execution_count": 123,
   "id": "a09379d3-4b08-4fc1-bb29-e0e5d718a321",
   "metadata": {},
   "outputs": [
    {
     "data": {
      "text/plain": [
       "1.4102899635724136e-10"
      ]
     },
     "execution_count": 123,
     "metadata": {},
     "output_type": "execute_result"
    }
   ],
   "source": [
    "pvalue"
   ]
  },
  {
   "cell_type": "markdown",
   "id": "faa792c4-8f92-4c41-80b6-5e51a7aa0814",
   "metadata": {},
   "source": [
    "# Conclusion"
   ]
  },
  {
   "cell_type": "markdown",
   "id": "8bf2350e-adf5-42de-95d9-23635d731f08",
   "metadata": {},
   "source": [
    "**Бізге берілген датасетте әртүрлі ақпараттар берілген.**\n",
    "\n",
    "**Негізгілеріне келсек**:\n",
    "\n",
    "1. `Продукттардың жазылуы`. Product колонкасында өте көп мағлұмат берілген. Және де егер біз размерлерін немесе түстері турлы мағлұматтарды алып тастасақ дубликаттар көбейіп кетеді. Және де бұл көптеген данныйларды искажать етеді.\n",
    "\n",
    "2. `Бағасының диапазоны`. Продукттың бағалары 100 бен 14000 шамасында берілген. Және менің ойымша жоғары бағалы продукттарды выброс ретінде алып тастамайтын едім. Өйткені ол заттарды аз да болса заказ бар. Ал негізгі бағалар 100-300 аралығында.\n",
    "\n",
    "3. `Quantity - заказдағы продукт саны`. Бұл жерде де негізгі заказдағы продукттар саны 1-ге тең. Және де 1000-ға тең заказдағы продукттар да бар. Мен бірақ бұларды датасеттен алып тастамайтын едім. Өйткені бұлардың маңызы бар.\n",
    "\n",
    "4. `Заказдардың даталары`. Заказдың даталарына келсек, ең көп заказдар 2019.06-2019.05 даталарына келеді. Бұның себебі бұл дүкен бытовой товарлар сатуына байланысты деп ойлаймын. Өйткені жаз уақытында үй шаруалары өте қарқынды.\n",
    "\n",
    "5. `Категорияға бөлуге` келсек мен продукттерді кілт сөздер арқылы категорияға бөлдім.\n",
    "\n",
    "6. `Сатылымдарды бөлу`: Негізгі ассортимент (тапсырыстар саны бойынша үздік 20 өнім) қалған өнімдерге қарағанда total_sales көрсеткіші бойынша статистикалық маңызы бар артықшылық көрсетті. Бұл өнімдердің шағын тобы (негізгі ассортимент) барлық сатылымдардың елеулі үлесін қамтамасыз ететінін білдіреді.\n",
    "\n",
    "7. `Гипотезаны растау`: Манна-Уитни тесті бойынша алынған p-value мәні маңыздылық деңгейінен (0.05) едәуір төмен болды, бұл негізгі және қосымша ассортимент арасындағы сатылымдардағы айырмашылықтың маңызды екенін дәлелдейді. Бұл негізгі ассортимент сатылымдардың басым бөлігін құрайтынын айтуға негіз береді.\n",
    "\n",
    "**Бизнеске арналған ұсыныстар**\n",
    "\n",
    "1. `Ассортиментті оңтайландыру`: Қосымша ассортиментті қайта қарау мүмкіндігін қарастырып, сатылымдарға әсер етпейтін тауарларды алып тастау немесе оларды алмастыру, не болмаса маңызды болса, олардың сатылымын арттыруға баса назар аудару қажет.\n",
    "\n",
    "2. `Жарнамалық және ынталандыру шаралары`: Қосымша ассортимент үшін сұранысты ынталандыру және олардың сатылымдағы үлесін арттыру мақсатында жеңілдіктер, кросс-сатылымдар немесе акцияларды енгізу қажет болуы мүмкін.\n",
    "\n",
    "**Болашақ зерттеу бағыттары**\n",
    "\n",
    "1. `Трендтерді талдау`: Негізгі ассортименттің сатылымындағы маусымдық және уақытша ауытқуларды зерттеу. Бұл қорларды көбейту және маркетингтік науқандарды бастау үшін оңтайлы кезеңдерді анықтауға көмектеседі.\n",
    "\n",
    "2. `Клиенттік артықшылықтарды зерттеу`: Негізгі және қосымша ассортиментті қандай клиенттер санаты артық көретінін түсіну үшін клиенттер сегменттері бойынша талдау жүргізу. Бұл мақсатты аудиторияға бағытталған жарнама жасауға көмектеседі.\n",
    "\n",
    "3. `Маркетинг тиімділігін талдау`: Негізгі және қосымша ассортименттің сатылымына маркетингтік күш-жігердің (мысалы, жеңілдіктер, акциялар) қалай әсер ететінін бағалау."
   ]
  },
  {
   "cell_type": "code",
   "execution_count": 49,
   "id": "48dc3ef6-5367-49fc-8635-2dd0077a45c0",
   "metadata": {},
   "outputs": [],
   "source": [
    "data.to_excel('Last_dataset.xlsx')"
   ]
  },
  {
   "cell_type": "code",
   "execution_count": 55,
   "id": "bf19f2da-4eae-4b44-b241-f32d33cc4a59",
   "metadata": {},
   "outputs": [
    {
     "data": {
      "text/plain": [
       "price\n",
       "120.0     1046\n",
       "38.0       291\n",
       "90.0       264\n",
       "135.0      240\n",
       "188.0      223\n",
       "          ... \n",
       "178.0        1\n",
       "1275.0       1\n",
       "3374.0       1\n",
       "5474.0       1\n",
       "3779.0       1\n",
       "Name: count, Length: 360, dtype: int64"
      ]
     },
     "execution_count": 55,
     "metadata": {},
     "output_type": "execute_result"
    }
   ],
   "source": [
    "data['price'].value_counts()"
   ]
  },
  {
   "cell_type": "code",
   "execution_count": null,
   "id": "4aabf85e-1af1-4421-a6b1-61f556e3db49",
   "metadata": {},
   "outputs": [],
   "source": []
  }
 ],
 "metadata": {
  "kernelspec": {
   "display_name": "Python 3 (ipykernel)",
   "language": "python",
   "name": "python3"
  },
  "language_info": {
   "codemirror_mode": {
    "name": "ipython",
    "version": 3
   },
   "file_extension": ".py",
   "mimetype": "text/x-python",
   "name": "python",
   "nbconvert_exporter": "python",
   "pygments_lexer": "ipython3",
   "version": "3.12.4"
  }
 },
 "nbformat": 4,
 "nbformat_minor": 5
}
